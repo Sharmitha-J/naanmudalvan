{
  "nbformat": 4,
  "nbformat_minor": 0,
  "metadata": {
    "colab": {
      "provenance": []
    },
    "kernelspec": {
      "name": "python3",
      "display_name": "Python 3"
    },
    "language_info": {
      "name": "python"
    }
  },
  "cells": [
    {
      "cell_type": "code",
      "source": [
        "import pandas as pd\n",
        "\n",
        "\n",
        "column_name = 'total_vaccinations'\n",
        "\n",
        "# Read the CSV file into a DataFrame\n",
        "df = pd.read_csv('country_vaccinations.csv')\n",
        "\n",
        "# Get unique values in the specified column\n",
        "unique_values = df[column_name].unique()\n",
        "\n",
        "# Display the unique values\n",
        "print(f\"Unique values in '{column_name}':\")\n",
        "print(unique_values)\n"
      ],
      "metadata": {
        "colab": {
          "base_uri": "https://localhost:8080/",
          "height": 0
        },
        "id": "Oiu_k5JrjU4e",
        "outputId": "d90abe3b-9a61-4b8d-9a2a-b826938ffdb9"
      },
      "execution_count": 6,
      "outputs": [
        {
          "output_type": "stream",
          "name": "stdout",
          "text": [
            "Unique values in 'total_vaccinations':\n",
            "[0.000000e+00          nan 8.200000e+03 ... 8.845039e+06 8.934360e+06\n",
            " 9.039729e+06]\n"
          ]
        }
      ]
    },
    {
      "cell_type": "code",
      "source": [
        "import pandas as pd\n",
        "\n",
        "\n",
        "column_name = 'total_vaccinations'\n",
        "df = pd.read_csv('country_vaccinations.csv')\n",
        "\n",
        "# Set NaN values in the specified column to 0\n",
        "df[column_name] = df[column_name].fillna(0)\n",
        "\n",
        "# Write the modified DataFrame back to the CSV file\n",
        "df.to_csv('country_vaccinations.csv', index=False)"
      ],
      "metadata": {
        "id": "Ck4wFbotkP-p"
      },
      "execution_count": 8,
      "outputs": []
    },
    {
      "cell_type": "code",
      "source": [
        "import pandas as pd\n",
        "\n",
        "\n",
        "column_name = 'total_vaccinations'\n",
        "\n",
        "# Read the CSV file into a DataFrame\n",
        "df = pd.read_csv('country_vaccinations.csv')\n",
        "\n",
        "# Get unique values in the specified column\n",
        "unique_values = df[column_name].unique()\n",
        "\n",
        "# Display the unique values\n",
        "print(f\"Unique values in '{column_name}':\")\n",
        "print(unique_values)"
      ],
      "metadata": {
        "colab": {
          "base_uri": "https://localhost:8080/",
          "height": 0
        },
        "id": "xsvti5Cck2ig",
        "outputId": "717cd646-a65f-40bd-b94b-8b7df16886fe"
      },
      "execution_count": 9,
      "outputs": [
        {
          "output_type": "stream",
          "name": "stdout",
          "text": [
            "Unique values in 'total_vaccinations':\n",
            "[0.000000e+00 8.200000e+03 5.400000e+04 ... 8.845039e+06 8.934360e+06\n",
            " 9.039729e+06]\n"
          ]
        }
      ]
    },
    {
      "cell_type": "code",
      "source": [
        "import pandas as pd\n",
        "\n",
        "\n",
        "column_name = 'people_vaccinated'\n",
        "\n",
        "# Read the CSV file into a DataFrame\n",
        "df = pd.read_csv('country_vaccinations.csv')\n",
        "\n",
        "# Get unique values in the specified column\n",
        "unique_values = df[column_name].unique()\n",
        "\n",
        "# Display the unique values\n",
        "print(f\"Unique values in '{column_name}':\")\n",
        "print(unique_values)\n"
      ],
      "metadata": {
        "colab": {
          "base_uri": "https://localhost:8080/",
          "height": 0
        },
        "id": "GV2WkY8kmcWx",
        "outputId": "54dc39a6-b7b8-47ae-f4a0-8ed6f8edd86a"
      },
      "execution_count": 10,
      "outputs": [
        {
          "output_type": "stream",
          "name": "stdout",
          "text": [
            "Unique values in 'people_vaccinated':\n",
            "[      0.      nan    8200. ... 4918147. 4975433. 5053114.]\n"
          ]
        }
      ]
    },
    {
      "cell_type": "code",
      "source": [
        "import pandas as pd\n",
        "\n",
        "\n",
        "column_name = 'people_vaccinated'\n",
        "df = pd.read_csv('country_vaccinations.csv')\n",
        "\n",
        "# Set NaN values in the specified column to 0\n",
        "df[column_name] = df[column_name].fillna(0)\n",
        "\n",
        "# Write the modified DataFrame back to the CSV file\n",
        "df.to_csv('country_vaccinations.csv', index=False)"
      ],
      "metadata": {
        "id": "lJee9EhKmjAq"
      },
      "execution_count": 12,
      "outputs": []
    },
    {
      "cell_type": "code",
      "source": [
        "import pandas as pd\n",
        "\n",
        "\n",
        "column_name = 'people_vaccinated'\n",
        "\n",
        "# Read the CSV file into a DataFrame\n",
        "df = pd.read_csv('country_vaccinations.csv')\n",
        "\n",
        "# Get unique values in the specified column\n",
        "unique_values = df[column_name].unique()\n",
        "\n",
        "# Display the unique values\n",
        "print(f\"Unique values in '{column_name}':\")\n",
        "print(unique_values)"
      ],
      "metadata": {
        "colab": {
          "base_uri": "https://localhost:8080/",
          "height": 0
        },
        "id": "HI5otMk6mjLk",
        "outputId": "d76a71e8-e5e4-4663-f762-6fa1f99226b5"
      },
      "execution_count": 13,
      "outputs": [
        {
          "output_type": "stream",
          "name": "stdout",
          "text": [
            "Unique values in 'people_vaccinated':\n",
            "[      0.    8200.   54000. ... 4918147. 4975433. 5053114.]\n"
          ]
        }
      ]
    },
    {
      "cell_type": "code",
      "source": [
        "import pandas as pd\n",
        "\n",
        "\n",
        "column_name = 'people_fully_vaccinated'\n",
        "\n",
        "# Read the CSV file into a DataFrame\n",
        "df = pd.read_csv('country_vaccinations.csv')\n",
        "\n",
        "# Get unique values in the specified column\n",
        "unique_values = df[column_name].unique()\n",
        "\n",
        "# Display the unique values\n",
        "print(f\"Unique values in '{column_name}':\")\n",
        "print(unique_values)\n"
      ],
      "metadata": {
        "colab": {
          "base_uri": "https://localhost:8080/",
          "height": 0
        },
        "id": "7egxtjdHm44P",
        "outputId": "c663104c-bacb-4231-be5b-94fa37c1ffd6"
      },
      "execution_count": 14,
      "outputs": [
        {
          "output_type": "stream",
          "name": "stdout",
          "text": [
            "Unique values in 'people_fully_vaccinated':\n",
            "[     nan   55624.   77560. ... 3493763. 3501493. 3510256.]\n"
          ]
        }
      ]
    },
    {
      "cell_type": "code",
      "source": [
        "import pandas as pd\n",
        "\n",
        "\n",
        "column_name = 'people_fully_vaccinated'\n",
        "df = pd.read_csv('country_vaccinations.csv')\n",
        "\n",
        "# Set NaN values in the specified column to 0\n",
        "df[column_name] = df[column_name].fillna(0)\n",
        "\n",
        "# Write the modified DataFrame back to the CSV file\n",
        "df.to_csv('country_vaccinations.csv', index=False)"
      ],
      "metadata": {
        "id": "Ue6rV6zVm5FZ"
      },
      "execution_count": 15,
      "outputs": []
    },
    {
      "cell_type": "code",
      "source": [
        "import pandas as pd\n",
        "\n",
        "\n",
        "column_name = 'people_fully_vaccinated'\n",
        "\n",
        "# Read the CSV file into a DataFrame\n",
        "df = pd.read_csv('country_vaccinations.csv')\n",
        "\n",
        "# Get unique values in the specified column\n",
        "unique_values = df[column_name].unique()\n",
        "\n",
        "# Display the unique values\n",
        "print(f\"Unique values in '{column_name}':\")\n",
        "print(unique_values)"
      ],
      "metadata": {
        "colab": {
          "base_uri": "https://localhost:8080/",
          "height": 0
        },
        "id": "6Q8SHt5Mm5TO",
        "outputId": "25a32c2b-20d8-4508-d20a-d5e6fe68309c"
      },
      "execution_count": 16,
      "outputs": [
        {
          "output_type": "stream",
          "name": "stdout",
          "text": [
            "Unique values in 'people_fully_vaccinated':\n",
            "[      0.   55624.   77560. ... 3493763. 3501493. 3510256.]\n"
          ]
        }
      ]
    },
    {
      "cell_type": "code",
      "source": [
        "import pandas as pd\n",
        "\n",
        "\n",
        "column_name = 'daily_vaccinations_raw'\n",
        "\n",
        "# Read the CSV file into a DataFrame\n",
        "df = pd.read_csv('country_vaccinations.csv')\n",
        "\n",
        "# Get unique values in the specified column\n",
        "unique_values = df[column_name].unique()\n",
        "\n",
        "# Display the unique values\n",
        "print(f\"Unique values in '{column_name}':\")\n",
        "print(unique_values)\n"
      ],
      "metadata": {
        "colab": {
          "base_uri": "https://localhost:8080/",
          "height": 0
        },
        "id": "wsI_kPhGm_eg",
        "outputId": "7a8e8a80-57d4-4b65-ae55-b9a36ba5d626"
      },
      "execution_count": 17,
      "outputs": [
        {
          "output_type": "stream",
          "name": "stdout",
          "text": [
            "Unique values in 'daily_vaccinations_raw':\n",
            "[    nan   2859.   4015. ... 100086.  89321. 105369.]\n"
          ]
        }
      ]
    },
    {
      "cell_type": "code",
      "source": [
        "import pandas as pd\n",
        "\n",
        "\n",
        "column_name = 'daily_vaccinations_raw'\n",
        "df = pd.read_csv('country_vaccinations.csv')\n",
        "\n",
        "# Set NaN values in the specified column to 0\n",
        "df[column_name] = df[column_name].fillna(0)\n",
        "\n",
        "# Write the modified DataFrame back to the CSV file\n",
        "df.to_csv('country_vaccinations.csv', index=False)"
      ],
      "metadata": {
        "id": "5lbKuDtNnH9Q"
      },
      "execution_count": 18,
      "outputs": []
    },
    {
      "cell_type": "code",
      "source": [
        "import pandas as pd\n",
        "\n",
        "\n",
        "column_name = 'daily_vaccinations_raw'\n",
        "\n",
        "# Read the CSV file into a DataFrame\n",
        "df = pd.read_csv('country_vaccinations.csv')\n",
        "\n",
        "# Get unique values in the specified column\n",
        "unique_values = df[column_name].unique()\n",
        "\n",
        "# Display the unique values\n",
        "print(f\"Unique values in '{column_name}':\")\n",
        "print(unique_values)"
      ],
      "metadata": {
        "colab": {
          "base_uri": "https://localhost:8080/",
          "height": 0
        },
        "id": "FCZWM1mmnIH1",
        "outputId": "891efb7e-c212-43e2-9b83-e6200ae3aa63"
      },
      "execution_count": 19,
      "outputs": [
        {
          "output_type": "stream",
          "name": "stdout",
          "text": [
            "Unique values in 'daily_vaccinations_raw':\n",
            "[     0.   2859.   4015. ... 100086.  89321. 105369.]\n"
          ]
        }
      ]
    },
    {
      "cell_type": "code",
      "source": [
        "import pandas as pd\n",
        "\n",
        "\n",
        "column_name = 'daily_vaccinations'\n",
        "\n",
        "# Read the CSV file into a DataFrame\n",
        "df = pd.read_csv('country_vaccinations.csv')\n",
        "\n",
        "# Get unique values in the specified column\n",
        "unique_values = df[column_name].unique()\n",
        "\n",
        "# Display the unique values\n",
        "print(f\"Unique values in '{column_name}':\")\n",
        "print(unique_values)\n"
      ],
      "metadata": {
        "colab": {
          "base_uri": "https://localhost:8080/",
          "height": 0
        },
        "id": "d6YqHBR7nISh",
        "outputId": "6e5f6a26-72f9-4726-89f3-58cce3ad2d68"
      },
      "execution_count": 20,
      "outputs": [
        {
          "output_type": "stream",
          "name": "stdout",
          "text": [
            "Unique values in 'daily_vaccinations':\n",
            "[    nan   1367.   1580. ...  90629. 100614. 103751.]\n"
          ]
        }
      ]
    },
    {
      "cell_type": "code",
      "source": [
        "import pandas as pd\n",
        "\n",
        "\n",
        "column_name = 'daily_vaccinations'\n",
        "df = pd.read_csv('country_vaccinations.csv')\n",
        "\n",
        "# Set NaN values in the specified column to 0\n",
        "df[column_name] = df[column_name].fillna(0)\n",
        "\n",
        "# Write the modified DataFrame back to the CSV file\n",
        "df.to_csv('country_vaccinations.csv', index=False)"
      ],
      "metadata": {
        "id": "aoRUEfbfnMD0"
      },
      "execution_count": 21,
      "outputs": []
    },
    {
      "cell_type": "code",
      "source": [
        "import pandas as pd\n",
        "\n",
        "\n",
        "column_name = 'daily_vaccinations'\n",
        "\n",
        "# Read the CSV file into a DataFrame\n",
        "df = pd.read_csv('country_vaccinations.csv')\n",
        "\n",
        "# Get unique values in the specified column\n",
        "unique_values = df[column_name].unique()\n",
        "\n",
        "# Display the unique values\n",
        "print(f\"Unique values in '{column_name}':\")\n",
        "print(unique_values)"
      ],
      "metadata": {
        "colab": {
          "base_uri": "https://localhost:8080/",
          "height": 0
        },
        "id": "wgzwN3U2nMLp",
        "outputId": "c491ec64-b006-437a-d0b6-d77f2807a7d0"
      },
      "execution_count": 22,
      "outputs": [
        {
          "output_type": "stream",
          "name": "stdout",
          "text": [
            "Unique values in 'daily_vaccinations':\n",
            "[     0.   1367.   1580. ...  90629. 100614. 103751.]\n"
          ]
        }
      ]
    },
    {
      "cell_type": "code",
      "source": [
        "import pandas as pd\n",
        "\n",
        "\n",
        "column_name = 'total_vaccinations_per_hundred'\n",
        "\n",
        "# Read the CSV file into a DataFrame\n",
        "df = pd.read_csv('country_vaccinations.csv')\n",
        "\n",
        "# Get unique values in the specified column\n",
        "unique_values = df[column_name].unique()\n",
        "\n",
        "# Display the unique values\n",
        "print(f\"Unique values in '{column_name}':\")\n",
        "print(unique_values)\n"
      ],
      "metadata": {
        "colab": {
          "base_uri": "https://localhost:8080/",
          "height": 0
        },
        "id": "Mdil63TInMXL",
        "outputId": "251c880e-db0a-4dbd-c7d2-1677937bd2dc"
      },
      "execution_count": 23,
      "outputs": [
        {
          "output_type": "stream",
          "name": "stdout",
          "text": [
            "Unique values in 'total_vaccinations_per_hundred':\n",
            "[0.000e+00       nan 2.000e-02 ... 5.453e+01 5.861e+01 5.990e+01]\n"
          ]
        }
      ]
    },
    {
      "cell_type": "code",
      "source": [
        "import pandas as pd\n",
        "\n",
        "\n",
        "column_name = 'total_vaccinations_per_hundred'\n",
        "df = pd.read_csv('country_vaccinations.csv')\n",
        "\n",
        "# Set NaN values in the specified column to 0\n",
        "df[column_name] = df[column_name].fillna(0)\n",
        "\n",
        "# Write the modified DataFrame back to the CSV file\n",
        "df.to_csv('country_vaccinations.csv', index=False)"
      ],
      "metadata": {
        "id": "RJAIGB7DnRPr"
      },
      "execution_count": 24,
      "outputs": []
    },
    {
      "cell_type": "code",
      "source": [
        "import pandas as pd\n",
        "\n",
        "\n",
        "column_name = 'total_vaccinations_per_hundred'\n",
        "\n",
        "# Read the CSV file into a DataFrame\n",
        "df = pd.read_csv('country_vaccinations.csv')\n",
        "\n",
        "# Get unique values in the specified column\n",
        "unique_values = df[column_name].unique()\n",
        "\n",
        "# Display the unique values\n",
        "print(f\"Unique values in '{column_name}':\")\n",
        "print(unique_values)"
      ],
      "metadata": {
        "colab": {
          "base_uri": "https://localhost:8080/",
          "height": 0
        },
        "id": "iJ3pNmxFnRYN",
        "outputId": "1b49388f-299a-431c-f418-e31818d02066"
      },
      "execution_count": 25,
      "outputs": [
        {
          "output_type": "stream",
          "name": "stdout",
          "text": [
            "Unique values in 'total_vaccinations_per_hundred':\n",
            "[0.000e+00 2.000e-02 1.400e-01 ... 5.453e+01 5.861e+01 5.990e+01]\n"
          ]
        }
      ]
    },
    {
      "cell_type": "code",
      "source": [
        "import pandas as pd\n",
        "\n",
        "\n",
        "column_name = 'people_vaccinated_per_hundred'\n",
        "\n",
        "# Read the CSV file into a DataFrame\n",
        "df = pd.read_csv('country_vaccinations.csv')\n",
        "\n",
        "# Get unique values in the specified column\n",
        "unique_values = df[column_name].unique()\n",
        "\n",
        "# Display the unique values\n",
        "print(f\"Unique values in '{column_name}':\")\n",
        "print(unique_values)\n"
      ],
      "metadata": {
        "colab": {
          "base_uri": "https://localhost:8080/",
          "height": 0
        },
        "id": "UkDokiuanRnz",
        "outputId": "ddca7dec-0322-4c0d-eed3-54919a42f70e"
      },
      "execution_count": 26,
      "outputs": [
        {
          "output_type": "stream",
          "name": "stdout",
          "text": [
            "Unique values in 'people_vaccinated_per_hundred':\n",
            "[0.000e+00       nan 2.000e-02 ... 2.162e+01 2.249e+01 2.783e+01]\n"
          ]
        }
      ]
    },
    {
      "cell_type": "code",
      "source": [
        "import pandas as pd\n",
        "\n",
        "\n",
        "column_name = 'people_vaccinated_per_hundred'\n",
        "df = pd.read_csv('country_vaccinations.csv')\n",
        "\n",
        "# Set NaN values in the specified column to 0\n",
        "df[column_name] = df[column_name].fillna(0)\n",
        "\n",
        "# Write the modified DataFrame back to the CSV file\n",
        "df.to_csv('country_vaccinations.csv', index=False)"
      ],
      "metadata": {
        "id": "ftgjf9uvnePb"
      },
      "execution_count": 27,
      "outputs": []
    },
    {
      "cell_type": "code",
      "source": [
        "import pandas as pd\n",
        "\n",
        "\n",
        "column_name = 'people_vaccinated_per_hundred'\n",
        "\n",
        "# Read the CSV file into a DataFrame\n",
        "df = pd.read_csv('country_vaccinations.csv')\n",
        "\n",
        "# Get unique values in the specified column\n",
        "unique_values = df[column_name].unique()\n",
        "\n",
        "# Display the unique values\n",
        "print(f\"Unique values in '{column_name}':\")\n",
        "print(unique_values)"
      ],
      "metadata": {
        "colab": {
          "base_uri": "https://localhost:8080/",
          "height": 0
        },
        "id": "pGPh8EYdneY5",
        "outputId": "74dc672f-d27b-4ed1-aed9-de6b646dd6d6"
      },
      "execution_count": 28,
      "outputs": [
        {
          "output_type": "stream",
          "name": "stdout",
          "text": [
            "Unique values in 'people_vaccinated_per_hundred':\n",
            "[0.000e+00 2.000e-02 1.400e-01 ... 2.162e+01 2.249e+01 2.783e+01]\n"
          ]
        }
      ]
    },
    {
      "cell_type": "code",
      "source": [
        "import pandas as pd\n",
        "\n",
        "\n",
        "column_name = 'people_fully_vaccinated_per_hundred'\n",
        "\n",
        "# Read the CSV file into a DataFrame\n",
        "df = pd.read_csv('country_vaccinations.csv')\n",
        "\n",
        "# Get unique values in the specified column\n",
        "unique_values = df[column_name].unique()\n",
        "\n",
        "# Display the unique values\n",
        "print(f\"Unique values in '{column_name}':\")\n",
        "print(unique_values)\n"
      ],
      "metadata": {
        "colab": {
          "base_uri": "https://localhost:8080/",
          "height": 0
        },
        "id": "6tGGhffBnejW",
        "outputId": "b0046045-c66b-4c52-cfd6-3d6f0ac199bf"
      },
      "execution_count": 29,
      "outputs": [
        {
          "output_type": "stream",
          "name": "stdout",
          "text": [
            "Unique values in 'people_fully_vaccinated_per_hundred':\n",
            "[  nan  0.14  0.19 ... 17.69 19.62 23.26]\n"
          ]
        }
      ]
    },
    {
      "cell_type": "code",
      "source": [
        "import pandas as pd\n",
        "\n",
        "\n",
        "column_name = 'people_fully_vaccinated_per_hundred'\n",
        "df = pd.read_csv('country_vaccinations.csv')\n",
        "\n",
        "# Set NaN values in the specified column to 0\n",
        "df[column_name] = df[column_name].fillna(0)\n",
        "\n",
        "# Write the modified DataFrame back to the CSV file\n",
        "df.to_csv('country_vaccinations.csv', index=False)"
      ],
      "metadata": {
        "id": "64YU2gPFnpSK"
      },
      "execution_count": 30,
      "outputs": []
    },
    {
      "cell_type": "code",
      "source": [
        "import pandas as pd\n",
        "\n",
        "\n",
        "column_name = 'people_fully_vaccinated_per_hundred'\n",
        "\n",
        "# Read the CSV file into a DataFrame\n",
        "df = pd.read_csv('country_vaccinations.csv')\n",
        "\n",
        "# Get unique values in the specified column\n",
        "unique_values = df[column_name].unique()\n",
        "\n",
        "# Display the unique values\n",
        "print(f\"Unique values in '{column_name}':\")\n",
        "print(unique_values)"
      ],
      "metadata": {
        "colab": {
          "base_uri": "https://localhost:8080/",
          "height": 0
        },
        "id": "aQEYvPfAnpad",
        "outputId": "c96baf9b-22bf-42dd-b56e-4a7cc3c49072"
      },
      "execution_count": 31,
      "outputs": [
        {
          "output_type": "stream",
          "name": "stdout",
          "text": [
            "Unique values in 'people_fully_vaccinated_per_hundred':\n",
            "[ 0.    0.14  0.19 ... 17.69 19.62 23.26]\n"
          ]
        }
      ]
    },
    {
      "cell_type": "code",
      "source": [
        "import pandas as pd\n",
        "\n",
        "\n",
        "column_name = 'daily_vaccinations_per_million'\n",
        "\n",
        "# Read the CSV file into a DataFrame\n",
        "df = pd.read_csv('country_vaccinations.csv')\n",
        "\n",
        "# Get unique values in the specified column\n",
        "unique_values = df[column_name].unique()\n",
        "\n",
        "# Display the unique values\n",
        "print(f\"Unique values in '{column_name}':\")\n",
        "print(unique_values)\n"
      ],
      "metadata": {
        "colab": {
          "base_uri": "https://localhost:8080/",
          "height": 0
        },
        "id": "-GMr4eFDnpka",
        "outputId": "6753e535-f7c4-49d8-9ceb-889bfd63f522"
      },
      "execution_count": 32,
      "outputs": [
        {
          "output_type": "stream",
          "name": "stdout",
          "text": [
            "Unique values in 'daily_vaccinations_per_million':\n",
            "[   nan    34.    40. ... 22445. 18298. 14062.]\n"
          ]
        }
      ]
    },
    {
      "cell_type": "code",
      "source": [
        "import pandas as pd\n",
        "\n",
        "\n",
        "column_name = 'daily_vaccinations_per_million'\n",
        "df = pd.read_csv('country_vaccinations.csv')\n",
        "\n",
        "# Set NaN values in the specified column to 0\n",
        "df[column_name] = df[column_name].fillna(0)\n",
        "\n",
        "# Write the modified DataFrame back to the CSV file\n",
        "df.to_csv('country_vaccinations.csv', index=False)"
      ],
      "metadata": {
        "id": "lWthGRxeobDu"
      },
      "execution_count": 33,
      "outputs": []
    },
    {
      "cell_type": "code",
      "source": [
        "import pandas as pd\n",
        "\n",
        "\n",
        "column_name = 'daily_vaccinations_per_million'\n",
        "\n",
        "# Read the CSV file into a DataFrame\n",
        "df = pd.read_csv('country_vaccinations.csv')\n",
        "\n",
        "# Get unique values in the specified column\n",
        "unique_values = df[column_name].unique()\n",
        "\n",
        "# Display the unique values\n",
        "print(f\"Unique values in '{column_name}':\")\n",
        "print(unique_values)"
      ],
      "metadata": {
        "colab": {
          "base_uri": "https://localhost:8080/",
          "height": 0
        },
        "id": "XG_vLk-iobRQ",
        "outputId": "5badd590-8155-4d4f-afaa-db9afdec6b83"
      },
      "execution_count": 34,
      "outputs": [
        {
          "output_type": "stream",
          "name": "stdout",
          "text": [
            "Unique values in 'daily_vaccinations_per_million':\n",
            "[    0.    34.    40. ... 22445. 18298. 14062.]\n"
          ]
        }
      ]
    }
  ]
}